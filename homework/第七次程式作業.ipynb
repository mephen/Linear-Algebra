{
 "cells": [
  {
   "cell_type": "markdown",
   "metadata": {},
   "source": [
    "<font SIZE=5> 1.定義一個以B為定義域、C為值域的R3轉R4之線性轉換(dim等於4*3) </font>"
   ]
  },
  {
   "cell_type": "code",
   "execution_count": 3,
   "metadata": {},
   "outputs": [],
   "source": [
    "%matplotlib inline\n",
    "import numpy as np\n",
    "import sympy as sp\n",
    "import matplotlib.pyplot as plt"
   ]
  },
  {
   "cell_type": "code",
   "execution_count": 9,
   "metadata": {},
   "outputs": [],
   "source": [
    "#線性轉換矩陣phi\n",
    "phi = sp.Matrix([[2, 1 ,0],\n",
    "                 [3, 1, -1],\n",
    "                 [9, 9, 9],\n",
    "                 [-4, -1, 2]])"
   ]
  },
  {
   "cell_type": "code",
   "execution_count": 10,
   "metadata": {},
   "outputs": [],
   "source": [
    "q = sp.Matrix([[1, 0, 1],\n",
    "                 [0, 2, 0],\n",
    "                 [3, 4, 9],])\n",
    "w = sp.Matrix([[2, 7, 5],\n",
    "                [-3, -1, 4],\n",
    "                [2, 8, -9],])"
   ]
  },
  {
   "cell_type": "code",
   "execution_count": 12,
   "metadata": {},
   "outputs": [
    {
     "data": {
      "text/plain": [
       "True"
      ]
     },
     "execution_count": 12,
     "metadata": {},
     "output_type": "execute_result"
    }
   ],
   "source": [
    "#驗證phi是否為線性轉換\n",
    "phi@(q+w) == phi@q + phi@w\n",
    "phi@(5*q) == 5*(phi@q)"
   ]
  },
  {
   "cell_type": "markdown",
   "metadata": {},
   "source": [
    "<font SIZE=5> \n",
    "    2.令R3有2 bases B和Bp，R4有2 bases C和Cp\n",
    "</font>\n",
    "<br/>\n",
    "<br/>\n",
    "<font SIZE=5> \n",
    "    並求S矩陣和T的反矩陣\n",
    "</font>"
   ]
  },
  {
   "cell_type": "code",
   "execution_count": 20,
   "metadata": {},
   "outputs": [],
   "source": [
    "#令bases\n",
    "#B = I3， C=I4\n",
    "B = [[[1, 0, 0]],[[0, 1, 0]],[[0, 0, 1]]]\n",
    "C = [[[1, 0, 0, 0]],[[0, 1, 0, 0]],[[0, 0, 1, 0]],[[0, 0, 0, 1]]]\n",
    "Bp =[[[1, 1, 0]],[[0, 1, 1]],[[0, 0, 1]]]\n",
    "Cp = [[[1, 1, 0, 0]],[[0, 1, 1, 0]],[[0, 0, 1, 1]],[[0, 0, 0, 1]]]"
   ]
  },
  {
   "cell_type": "code",
   "execution_count": 19,
   "metadata": {},
   "outputs": [
    {
     "data": {
      "text/latex": [
       "$\\displaystyle \\left[\\begin{matrix}1 & 0 & 0 & 0\\\\-1 & 1 & 0 & 0\\\\1 & -1 & 1 & 0\\\\-1 & 1 & -1 & 1\\end{matrix}\\right]$"
      ],
      "text/plain": [
       "Matrix([\n",
       "[ 1,  0,  0, 0],\n",
       "[-1,  1,  0, 0],\n",
       "[ 1, -1,  1, 0],\n",
       "[-1,  1, -1, 1]])"
      ]
     },
     "execution_count": 19,
     "metadata": {},
     "output_type": "execute_result"
    }
   ],
   "source": [
    "#找S&T inverse\n",
    "S = sp.Matrix([[1, 0, 0],\n",
    "              [1, 1, 0],\n",
    "              [0, 1, 1]])\n",
    "T = sp.Matrix([[1, 0, 0, 0],\n",
    "              [1, 1, 0, 0],\n",
    "              [0, 1, 1, 0],\n",
    "              [0, 0, 1, 1]])\n",
    "T.inv()"
   ]
  },
  {
   "cell_type": "markdown",
   "metadata": {},
   "source": [
    "<font SIZE=5> \n",
    "    3.求以Bp為定義域和以Cp為值域的新線性轉換\n",
    "</font>"
   ]
  },
  {
   "cell_type": "code",
   "execution_count": 21,
   "metadata": {},
   "outputs": [
    {
     "data": {
      "text/latex": [
       "$\\displaystyle \\left[\\begin{matrix}3 & 1 & 0\\\\1 & -1 & -1\\\\17 & 19 & 10\\\\-22 & -18 & -8\\end{matrix}\\right]$"
      ],
      "text/plain": [
       "Matrix([\n",
       "[  3,   1,  0],\n",
       "[  1,  -1, -1],\n",
       "[ 17,  19, 10],\n",
       "[-22, -18, -8]])"
      ]
     },
     "execution_count": 21,
     "metadata": {},
     "output_type": "execute_result"
    }
   ],
   "source": [
    "Ti = T.inv()\n",
    "newphi = Ti@phi@S\n",
    "newphi"
   ]
  }
 ],
 "metadata": {
  "kernelspec": {
   "display_name": "Python 3",
   "language": "python",
   "name": "python3"
  },
  "language_info": {
   "codemirror_mode": {
    "name": "ipython",
    "version": 3
   },
   "file_extension": ".py",
   "mimetype": "text/x-python",
   "name": "python",
   "nbconvert_exporter": "python",
   "pygments_lexer": "ipython3",
   "version": "3.7.3"
  }
 },
 "nbformat": 4,
 "nbformat_minor": 4
}
