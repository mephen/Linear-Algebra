{
 "cells": [
  {
   "cell_type": "markdown",
   "metadata": {},
   "source": [
    "<font  size=5>增廣矩陣<font>"
   ]
  },
  {
   "cell_type": "markdown",
   "metadata": {},
   "source": [
    "$$\n",
    "                \\left [\n",
    "                \\begin{array}{cccc|cccc}\n",
    "                1 & 2 & 3 & 4 & 1 & 0 & 0 & 0\\\\\n",
    "                2 & 1 & 3 & 4 & 0 & 1 & 0 & 0\\\\\n",
    "                5 & 6 & 7 & 8 & 0 & 0 & 1 & 0\\\\\n",
    "                3 & 8 & 9 & 2 & 0 & 0 & 0 & 1\n",
    "                \\end{array}\n",
    "                \\right ] \n",
    "$$"
   ]
  },
  {
   "cell_type": "code",
   "execution_count": 120,
   "metadata": {},
   "outputs": [],
   "source": [
    "import numpy as np\n",
    "import sympy as sp\n",
    "from sympy import S"
   ]
  },
  {
   "cell_type": "code",
   "execution_count": 121,
   "metadata": {},
   "outputs": [
    {
     "data": {
      "text/latex": [
       "$\\displaystyle \\left[\\begin{matrix}1 & 2 & 3 & 4 & 1 & 0 & 0 & 0\\\\2 & 1 & 3 & 4 & 0 & 1 & 0 & 0\\\\5 & 6 & 7 & 8 & 0 & 0 & 1 & 0\\\\3 & 8 & 9 & 2 & 0 & 0 & 0 & 1\\end{matrix}\\right]$"
      ],
      "text/plain": [
       "Matrix([\n",
       "[1, 2, 3, 4, 1, 0, 0, 0],\n",
       "[2, 1, 3, 4, 0, 1, 0, 0],\n",
       "[5, 6, 7, 8, 0, 0, 1, 0],\n",
       "[3, 8, 9, 2, 0, 0, 0, 1]])"
      ]
     },
     "execution_count": 121,
     "metadata": {},
     "output_type": "execute_result"
    }
   ],
   "source": [
    "x = sp.Matrix([[1, 2, 3, 4, 1, 0, 0, 0],\n",
    "             [2, 1, 3, 4, 0, 1, 0, 0],\n",
    "             [5, 6, 7, 8, 0, 0, 1, 0],\n",
    "             [3, 8, 9, 2, 0, 0, 0, 1]])\n",
    "x"
   ]
  },
  {
   "cell_type": "markdown",
   "metadata": {},
   "source": [
    "<br/> <br/> \n",
    "<font  size=5>轉成REF的形式</font>\n",
    "<br/> <br/> "
   ]
  },
  {
   "cell_type": "code",
   "execution_count": 122,
   "metadata": {},
   "outputs": [],
   "source": [
    "x1 = x.row(0)\n",
    "x2 = x.row(1)\n",
    "x3 = x.row(2)\n",
    "x4 = x.row(3)"
   ]
  },
  {
   "cell_type": "code",
   "execution_count": 123,
   "metadata": {},
   "outputs": [
    {
     "data": {
      "text/latex": [
       "$\\displaystyle \\left[\\begin{matrix}1 & 2 & 3 & 4 & 1 & 0 & 0 & 0\\\\0 & -3 & -3 & -4 & -2 & 1 & 0 & 0\\\\0 & -4 & -8 & -12 & -5 & 0 & 1 & 0\\\\0 & 2 & 0 & -10 & -3 & 0 & 0 & 1\\end{matrix}\\right]$"
      ],
      "text/plain": [
       "Matrix([\n",
       "[1,  2,  3,   4,  1, 0, 0, 0],\n",
       "[0, -3, -3,  -4, -2, 1, 0, 0],\n",
       "[0, -4, -8, -12, -5, 0, 1, 0],\n",
       "[0,  2,  0, -10, -3, 0, 0, 1]])"
      ]
     },
     "execution_count": 123,
     "metadata": {},
     "output_type": "execute_result"
    }
   ],
   "source": [
    "x2 = x1*-2 + x2\n",
    "x3 = x1*-5 + x3\n",
    "x4 = x1*-3 + x4\n",
    "x  = sp.Matrix([x1, x2, x3, x4])\n",
    "x"
   ]
  },
  {
   "cell_type": "code",
   "execution_count": 124,
   "metadata": {},
   "outputs": [
    {
     "data": {
      "text/latex": [
       "$\\displaystyle \\left[\\begin{matrix}1 & 2 & 3 & 4 & 1 & 0 & 0 & 0\\\\0 & -3 & -3 & -4 & -2 & 1 & 0 & 0\\\\0 & 0 & -4 & - \\frac{20}{3} & - \\frac{7}{3} & - \\frac{4}{3} & 1 & 0\\\\0 & 0 & -2 & - \\frac{38}{3} & - \\frac{13}{3} & \\frac{2}{3} & 0 & 1\\end{matrix}\\right]$"
      ],
      "text/plain": [
       "Matrix([\n",
       "[1,  2,  3,     4,     1,    0, 0, 0],\n",
       "[0, -3, -3,    -4,    -2,    1, 0, 0],\n",
       "[0,  0, -4, -20/3,  -7/3, -4/3, 1, 0],\n",
       "[0,  0, -2, -38/3, -13/3,  2/3, 0, 1]])"
      ]
     },
     "execution_count": 124,
     "metadata": {},
     "output_type": "execute_result"
    }
   ],
   "source": [
    "x3 = x2*(S(-4)/3) + x3\n",
    "x4 = x2*(S(2)/3) + x4\n",
    "x  = sp.Matrix([x1, x2, x3, x4])\n",
    "x"
   ]
  },
  {
   "cell_type": "code",
   "execution_count": 125,
   "metadata": {},
   "outputs": [
    {
     "data": {
      "text/latex": [
       "$\\displaystyle \\left[\\begin{matrix}1 & 2 & 3 & 4 & 1 & 0 & 0 & 0\\\\0 & -3 & -3 & -4 & -2 & 1 & 0 & 0\\\\0 & 0 & -4 & - \\frac{20}{3} & - \\frac{7}{3} & - \\frac{4}{3} & 1 & 0\\\\0 & 0 & 0 & - \\frac{28}{3} & - \\frac{19}{6} & \\frac{4}{3} & - \\frac{1}{2} & 1\\end{matrix}\\right]$"
      ],
      "text/plain": [
       "Matrix([\n",
       "[1,  2,  3,     4,     1,    0,    0, 0],\n",
       "[0, -3, -3,    -4,    -2,    1,    0, 0],\n",
       "[0,  0, -4, -20/3,  -7/3, -4/3,    1, 0],\n",
       "[0,  0,  0, -28/3, -19/6,  4/3, -1/2, 1]])"
      ]
     },
     "execution_count": 125,
     "metadata": {},
     "output_type": "execute_result"
    }
   ],
   "source": [
    "x4 = x3*(S(-1)/2) + x4\n",
    "x = sp.Matrix([x1, x2, x3, x4])\n",
    "x"
   ]
  },
  {
   "cell_type": "code",
   "execution_count": 126,
   "metadata": {},
   "outputs": [
    {
     "data": {
      "text/latex": [
       "$\\displaystyle \\left[\\begin{matrix}1 & 2 & 3 & 4 & 1 & 0 & 0 & 0\\\\0 & 1 & 1 & \\frac{4}{3} & \\frac{2}{3} & - \\frac{1}{3} & 0 & 0\\\\0 & 0 & 1 & \\frac{5}{3} & \\frac{7}{12} & \\frac{1}{3} & - \\frac{1}{4} & 0\\\\0 & 0 & 0 & 1 & \\frac{19}{56} & - \\frac{1}{7} & \\frac{3}{56} & - \\frac{3}{28}\\end{matrix}\\right]$"
      ],
      "text/plain": [
       "Matrix([\n",
       "[1, 2, 3,   4,     1,    0,    0,     0],\n",
       "[0, 1, 1, 4/3,   2/3, -1/3,    0,     0],\n",
       "[0, 0, 1, 5/3,  7/12,  1/3, -1/4,     0],\n",
       "[0, 0, 0,   1, 19/56, -1/7, 3/56, -3/28]])"
      ]
     },
     "execution_count": 126,
     "metadata": {},
     "output_type": "execute_result"
    }
   ],
   "source": [
    "x2 = x2*(S(-1)/3)\n",
    "x3 = x3*(S(-1)/4)\n",
    "x4 = x4*(S(-3)/28)\n",
    "x = sp.Matrix([x1, x2, x3, x4])\n",
    "x"
   ]
  },
  {
   "cell_type": "markdown",
   "metadata": {},
   "source": [
    "<br/> <br/> \n",
    "<font  size=5>轉成RREF的形式</font>\n",
    "<br/> <br/> "
   ]
  },
  {
   "cell_type": "code",
   "execution_count": 127,
   "metadata": {},
   "outputs": [
    {
     "data": {
      "text/latex": [
       "$\\displaystyle - \\frac{1}{3}$"
      ],
      "text/plain": [
       "-1/3"
      ]
     },
     "execution_count": 127,
     "metadata": {},
     "output_type": "execute_result"
    }
   ],
   "source": [
    "4- S(4)/3*2 - S(5)/3"
   ]
  },
  {
   "cell_type": "code",
   "execution_count": 128,
   "metadata": {},
   "outputs": [
    {
     "data": {
      "text/latex": [
       "$\\displaystyle \\left[\\begin{matrix}1 & 0 & 0 & 0 & - \\frac{45}{56} & \\frac{2}{7} & \\frac{15}{56} & - \\frac{1}{28}\\\\0 & 1 & 0 & 0 & \\frac{11}{56} & - \\frac{5}{7} & \\frac{15}{56} & - \\frac{1}{28}\\\\0 & 0 & 1 & 0 & \\frac{1}{56} & \\frac{4}{7} & - \\frac{19}{56} & \\frac{5}{28}\\\\0 & 0 & 0 & 1 & \\frac{19}{56} & - \\frac{1}{7} & \\frac{3}{56} & - \\frac{3}{28}\\end{matrix}\\right]$"
      ],
      "text/plain": [
       "Matrix([\n",
       "[1, 0, 0, 0, -45/56,  2/7,  15/56, -1/28],\n",
       "[0, 1, 0, 0,  11/56, -5/7,  15/56, -1/28],\n",
       "[0, 0, 1, 0,   1/56,  4/7, -19/56,  5/28],\n",
       "[0, 0, 0, 1,  19/56, -1/7,   3/56, -3/28]])"
      ]
     },
     "execution_count": 128,
     "metadata": {},
     "output_type": "execute_result"
    }
   ],
   "source": [
    "x1 = x2*(-2) + x3*(-1) + x4*S(1)/3 + x1\n",
    "x2 = x3*(-1) + x4*S(1)/3 + x2\n",
    "x3 = x4*S(-5)/3 + x3\n",
    "x = sp.Matrix([x1, x2, x3, x4])\n",
    "x"
   ]
  },
  {
   "cell_type": "markdown",
   "metadata": {},
   "source": [
    "<br/> <br/> \n",
    "<font  size=5>從增廣矩陣以高斯消去法的方式求RREF以得到反矩陣的方式可知x的反矩陣為</font>\n",
    "<br/> <br/> "
   ]
  },
  {
   "cell_type": "markdown",
   "metadata": {},
   "source": [
    "$$\n",
    "                \\left [\n",
    "                \\begin{array}{cccc|cccc}\n",
    "                -\\cfrac{45}{56} & \\cfrac{2}{7}& \\cfrac{15}{56} & -\\cfrac{1}{28}\\\\\n",
    "                \\cfrac{11}{56} & -\\cfrac{5}{7} & \\cfrac{15}{56} & -\\cfrac{1}{28}\\\\\n",
    "                \\cfrac{1}{56} & \\cfrac{4}{7} & -\\cfrac{19}{56} & \\cfrac{5}{28}\\\\\n",
    "                \\cfrac{19}{56} & -\\cfrac{1}{7} & \\cfrac{3}{56} & -\\cfrac{3}{28}\n",
    "                \\end{array}\n",
    "                \\right ] \n",
    "$$"
   ]
  },
  {
   "cell_type": "markdown",
   "metadata": {},
   "source": [
    "<br/> <br/> \n",
    "<font  size=5>驗證是否正確</font>\n",
    "<br/> <br/> "
   ]
  },
  {
   "cell_type": "code",
   "execution_count": 117,
   "metadata": {},
   "outputs": [
    {
     "data": {
      "text/latex": [
       "$\\displaystyle \\left[\\begin{matrix}- \\frac{45}{56} & \\frac{2}{7} & \\frac{15}{56} & - \\frac{1}{28}\\\\\\frac{11}{56} & - \\frac{5}{7} & \\frac{15}{56} & - \\frac{1}{28}\\\\\\frac{1}{56} & \\frac{4}{7} & - \\frac{19}{56} & \\frac{5}{28}\\\\\\frac{19}{56} & - \\frac{1}{7} & \\frac{3}{56} & - \\frac{3}{28}\\end{matrix}\\right]$"
      ],
      "text/plain": [
       "Matrix([\n",
       "[-45/56,  2/7,  15/56, -1/28],\n",
       "[ 11/56, -5/7,  15/56, -1/28],\n",
       "[  1/56,  4/7, -19/56,  5/28],\n",
       "[ 19/56, -1/7,   3/56, -3/28]])"
      ]
     },
     "execution_count": 117,
     "metadata": {},
     "output_type": "execute_result"
    }
   ],
   "source": [
    "y = sp.Matrix([[1, 2, 3, 4],\n",
    "             [2, 1, 3, 4],\n",
    "             [5, 6, 7, 8],\n",
    "             [3, 8, 9, 2]])\n",
    "S(y).inv()"
   ]
  }
 ],
 "metadata": {
  "kernelspec": {
   "display_name": "Python 3",
   "language": "python",
   "name": "python3"
  },
  "language_info": {
   "codemirror_mode": {
    "name": "ipython",
    "version": 3
   },
   "file_extension": ".py",
   "mimetype": "text/x-python",
   "name": "python",
   "nbconvert_exporter": "python",
   "pygments_lexer": "ipython3",
   "version": "3.7.3"
  }
 },
 "nbformat": 4,
 "nbformat_minor": 4
}
